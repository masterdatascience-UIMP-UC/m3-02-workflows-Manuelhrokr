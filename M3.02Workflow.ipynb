{
 "cells": [
  {
   "cell_type": "markdown",
   "metadata": {},
   "source": [
    "- Diego Ferreño Blanco\n",
    "- Estela Ruiz Martínez\n",
    "- Gerardo de Miguel González\n",
    "- Manuel Zamudio López"
   ]
  },
  {
   "cell_type": "markdown",
   "metadata": {},
   "source": [
    "# Workflow\n",
    "\n",
    "En esta práctica vamos a aplicar lo aprendido en esta asignatura para crear un flujo que automatice la descarga, análisis y publicación de los datos utilizando distintas herramientas como Zenodo, github y librerías de python para el análisis de datos\n",
    "\n",
    "### Librerías necesarias para la práctica\n",
    "\n",
    "```python\n",
    "import xml.etree.ElementTree as ET\n",
    "import requests\n",
    "import json\n",
    "import zipfile\n",
    "```\n",
    "\n",
    "### Elementos necesarios\n",
    "* Al menos un fichero CSV\n",
    "* Un script de análisis de datos en CSV (Publicado en Github)\n"
   ]
  },
  {
   "cell_type": "code",
   "execution_count": 2,
   "metadata": {},
   "outputs": [],
   "source": [
    "import xml.etree.ElementTree as ET\n",
    "import requests\n",
    "import json\n",
    "import zipfile"
   ]
  },
  {
   "cell_type": "markdown",
   "metadata": {},
   "source": [
    "# Publicación de datos iniciales\n",
    "\n",
    "Utilizando Zenodo, de forma manual, publicar los datos que se vayan a utilizar.\n",
    "\n",
    "<div class=\"alert alert-warning\" role=\"alert\" style=\"margin: 10px\">\n",
    "<p>Utilizar Communities para localizar más facilmente los datos</p>\n",
    "</div>\n"
   ]
  },
  {
   "cell_type": "markdown",
   "metadata": {},
   "source": [
    "**COMENTARIO**\n",
    "\n",
    "El DataSet para la práctica se ha publicado en Zenodo, para ello se ha creado una comunidad para localizar más fácilmente el archivo con los datos, como se sugiere en el enunciado del ejercicio.\n",
    "- **Communities**: ERM_DFB\n",
    "- **DataSet**: DataSetBoston"
   ]
  },
  {
   "cell_type": "markdown",
   "metadata": {},
   "source": [
    "# Publicación de script de Análisis\n",
    "\n",
    "En Github + Zenodo"
   ]
  },
  {
   "cell_type": "markdown",
   "metadata": {},
   "source": [
    "**COMENTARIO**\n",
    "\n",
    "La script se ha publicado en GitHub y en la cuenta Estela85. Con la opción \"Release\" en GitHub, se cargó el script \".py\" en Zenodo, donde automáticamente se guardó en un archivo \".zip\".\n",
    "\n",
    "- **Github**: Estela85/Boston_ERM-DFB"
   ]
  },
  {
   "cell_type": "markdown",
   "metadata": {},
   "source": [
    "# Descarga de datos\n",
    "\n",
    "Desde Zenodo, utilizando los métodos conocidos (OAI-PMH, API)\n",
    "\n",
    "Pista: url+'?verb=ListRecords&set=nombre_set"
   ]
  },
  {
   "cell_type": "markdown",
   "metadata": {},
   "source": [
    "**COMENTARIO:**\n",
    "\n",
    "Hacemos un requests para obtener los identifieres que hacen referencia a la base de datos y al script."
   ]
  },
  {
   "cell_type": "code",
   "execution_count": 3,
   "metadata": {},
   "outputs": [
    {
     "name": "stdout",
     "output_type": "stream",
     "text": [
      "{http://www.openarchives.org/OAI/2.0/}OAI-PMH : \n",
      "  \n",
      "{http://www.openarchives.org/OAI/2.0/}responseDate : 2019-01-17T09:44:07Z\n",
      "{http://www.openarchives.org/OAI/2.0/}request : https://zenodo.org/oai2d\n",
      "{http://www.openarchives.org/OAI/2.0/}ListRecords : \n",
      "    \n",
      "{http://www.openarchives.org/OAI/2.0/}record : \n",
      "      \n",
      "{http://www.openarchives.org/OAI/2.0/}header : \n",
      "        \n",
      "{http://www.openarchives.org/OAI/2.0/}identifier : oai:zenodo.org:2541808\n",
      "{http://www.openarchives.org/OAI/2.0/}datestamp : 2019-01-17T01:32:37Z\n",
      "{http://www.openarchives.org/OAI/2.0/}setSpec : openaire_data\n",
      "{http://www.openarchives.org/OAI/2.0/}setSpec : user-erm_dfb\n",
      "{http://www.openarchives.org/OAI/2.0/}metadata : \n",
      "        \n",
      "{http://www.openarchives.org/OAI/2.0/oai_dc/}dc : \n",
      "          \n",
      "{http://purl.org/dc/elements/1.1/}creator : Diego Ferreno\n",
      "{http://purl.org/dc/elements/1.1/}creator : Estela Ruiz\n",
      "{http://purl.org/dc/elements/1.1/}date : 2019-01-16\n",
      "{http://purl.org/dc/elements/1.1/}description : DataSet para la práctica de ciclo de vida de los datos\n",
      "{http://purl.org/dc/elements/1.1/}identifier : https://zenodo.org/record/2541808\n",
      "{http://purl.org/dc/elements/1.1/}identifier : 10.5281/zenodo.2541808\n",
      "{http://purl.org/dc/elements/1.1/}identifier : oai:zenodo.org:2541808\n",
      "{http://purl.org/dc/elements/1.1/}language : eng\n",
      "{http://purl.org/dc/elements/1.1/}relation : doi:10.5281/zenodo.2541807\n",
      "{http://purl.org/dc/elements/1.1/}relation : url:https://zenodo.org/communities/erm_dfb\n",
      "{http://purl.org/dc/elements/1.1/}rights : info:eu-repo/semantics/openAccess\n",
      "{http://purl.org/dc/elements/1.1/}rights : http://creativecommons.org/licenses/by/4.0/legalcode\n",
      "{http://purl.org/dc/elements/1.1/}title : DataSetBoston\n",
      "{http://purl.org/dc/elements/1.1/}type : info:eu-repo/semantics/other\n",
      "{http://purl.org/dc/elements/1.1/}type : dataset\n",
      "{http://www.openarchives.org/OAI/2.0/}record : \n",
      "      \n",
      "{http://www.openarchives.org/OAI/2.0/}header : \n",
      "        \n",
      "{http://www.openarchives.org/OAI/2.0/}identifier : oai:zenodo.org:2541986\n",
      "{http://www.openarchives.org/OAI/2.0/}datestamp : 2019-01-17T01:32:38Z\n",
      "{http://www.openarchives.org/OAI/2.0/}setSpec : software\n",
      "{http://www.openarchives.org/OAI/2.0/}setSpec : user-erm_dfb\n",
      "{http://www.openarchives.org/OAI/2.0/}metadata : \n",
      "        \n",
      "{http://www.openarchives.org/OAI/2.0/oai_dc/}dc : \n",
      "          \n",
      "{http://purl.org/dc/elements/1.1/}creator : Estela85\n",
      "{http://purl.org/dc/elements/1.1/}date : 2019-01-16\n",
      "{http://purl.org/dc/elements/1.1/}description : No description provided.\n",
      "{http://purl.org/dc/elements/1.1/}identifier : https://zenodo.org/record/2541986\n",
      "{http://purl.org/dc/elements/1.1/}identifier : 10.5281/zenodo.2541986\n",
      "{http://purl.org/dc/elements/1.1/}identifier : oai:zenodo.org:2541986\n",
      "{http://purl.org/dc/elements/1.1/}relation : url:https://github.com/Estela85/Boston_ERM-DFB/tree/1\n",
      "{http://purl.org/dc/elements/1.1/}relation : doi:10.5281/zenodo.2541985\n",
      "{http://purl.org/dc/elements/1.1/}relation : url:https://zenodo.org/communities/erm_dfb\n",
      "{http://purl.org/dc/elements/1.1/}rights : info:eu-repo/semantics/openAccess\n",
      "{http://purl.org/dc/elements/1.1/}title : Estela85/Boston_ERM-DFB 1\n",
      "{http://purl.org/dc/elements/1.1/}type : info:eu-repo/semantics/other\n",
      "{http://purl.org/dc/elements/1.1/}type : software\n"
     ]
    }
   ],
   "source": [
    "oai = requests.get('https://zenodo.org/oai2d?verb=ListRecords&set=user-erm_dfb&metadataPrefix=oai_dc') \n",
    "Tree = ET.fromstring(oai.text)\n",
    "iterator = Tree.iter()\n",
    "for elem in iterator:\n",
    "    print(elem.tag ,\":\", elem.text) "
   ]
  },
  {
   "cell_type": "markdown",
   "metadata": {},
   "source": [
    "**COMENTARIO**\n",
    "\n",
    "Al identificador: https://zenodo.org/record/2541808 le añadimos **/api**, https://zenodo.org/api/records/2541808, e indicamos que queremos obtener la respuesta en formato json."
   ]
  },
  {
   "cell_type": "code",
   "execution_count": 4,
   "metadata": {},
   "outputs": [],
   "source": [
    "headers={'accept':'application/json'}\n",
    "r=requests.get('https://zenodo.org/api/records/2541808',headers)"
   ]
  },
  {
   "cell_type": "code",
   "execution_count": 11,
   "metadata": {},
   "outputs": [],
   "source": [
    "data = json.loads(r.text)"
   ]
  },
  {
   "cell_type": "markdown",
   "metadata": {},
   "source": [
    "**COMENTARIO** \n",
    "\n",
    "Obtenemos la URL, link, donde podemos descargarnos la base de datos Boston.csv"
   ]
  },
  {
   "cell_type": "code",
   "execution_count": 6,
   "metadata": {},
   "outputs": [
    {
     "data": {
      "text/plain": [
       "'https://zenodo.org/api/files/4aa84e3a-c504-4924-b7ee-2df3e5026e03/Boston.csv'"
      ]
     },
     "execution_count": 6,
     "metadata": {},
     "output_type": "execute_result"
    }
   ],
   "source": [
    "link=data['files'][0]['links']['self']\n",
    "link"
   ]
  },
  {
   "cell_type": "markdown",
   "metadata": {},
   "source": [
    "**COMENTARIO**\n",
    "\n",
    "Descargamos el csv en nuestro equipo."
   ]
  },
  {
   "cell_type": "code",
   "execution_count": 7,
   "metadata": {},
   "outputs": [],
   "source": [
    "import os\n",
    "import requests\n",
    "\n",
    "response = requests.get(link)\n",
    "with open(os.path.join(\".\", \"Boston.csv\"), 'wb') as f:\n",
    "    f.write(response.content)"
   ]
  },
  {
   "cell_type": "markdown",
   "metadata": {},
   "source": [
    "# Descarga de código\n",
    "\n",
    "Desde Zenodo, utilizando los métodos conocidos (OAI-PMH, API)\n",
    "\n",
    "<div class=\"alert alert-warning\" role=\"alert\" style=\"margin: 10px\">\n",
    "<p>Zenodo guarda un zip con el código</p>\n",
    "</div>"
   ]
  },
  {
   "cell_type": "markdown",
   "metadata": {},
   "source": [
    "**COMENTARIO**\n",
    "\n",
    "Repetimos el proceso para obtener el fichero con la script."
   ]
  },
  {
   "cell_type": "code",
   "execution_count": 8,
   "metadata": {},
   "outputs": [],
   "source": [
    "headers={'accept':'application/json'}\n",
    "r1=requests.get('https://zenodo.org/api/records/2541986',headers)"
   ]
  },
  {
   "cell_type": "code",
   "execution_count": 9,
   "metadata": {},
   "outputs": [
    {
     "data": {
      "text/plain": [
       "'https://zenodo.org/api/files/e3c1ee73-f694-4200-b596-27ac40529d20/Estela85/Boston_ERM-DFB-1.zip'"
      ]
     },
     "execution_count": 9,
     "metadata": {},
     "output_type": "execute_result"
    }
   ],
   "source": [
    "data1 = json.loads(r1.text)\n",
    "link1=data1['files'][0]['links']['self']\n",
    "#result1=requests.get(link1)\n",
    "link1"
   ]
  },
  {
   "cell_type": "code",
   "execution_count": 10,
   "metadata": {},
   "outputs": [],
   "source": [
    "response1 = requests.get(link1)\n",
    "with open(os.path.join(\".\", \"Script1.zip\"), 'wb') as f:\n",
    "    f.write(response1.content)"
   ]
  },
  {
   "cell_type": "markdown",
   "metadata": {},
   "source": [
    "**COMENTARIO**\n",
    "\n",
    "\"Deszipeamos\" el archivo para obtener la script."
   ]
  },
  {
   "cell_type": "code",
   "execution_count": 148,
   "metadata": {},
   "outputs": [],
   "source": [
    "import zipfile\n",
    "with zipfile.ZipFile(\"Script1.zip\",\"r\") as zip_ref:\n",
    "    zip_ref.extractall(\".\")"
   ]
  },
  {
   "cell_type": "markdown",
   "metadata": {},
   "source": [
    "# Análisis de los datos\n",
    "\n",
    "Producir fichero: Otro CSV, imagen, etc"
   ]
  },
  {
   "cell_type": "markdown",
   "metadata": {},
   "source": [
    "Aquí se muestran los resultados obtenidos del análisis y también se han exportado 2 gráficas en formato png. \"Grafica\" muestra los valores de y predicho frente a los y reales y la otra muestras la regresión de dos de las variables."
   ]
  },
  {
   "cell_type": "markdown",
   "metadata": {},
   "source": [
    "**COMENTARIO**\n",
    "\n",
    "Con la base de datos y la script en nuestro equipo ya estamos en disposición de lanzar la script y obtener los resultados de la script."
   ]
  },
  {
   "cell_type": "code",
   "execution_count": 13,
   "metadata": {},
   "outputs": [
    {
     "name": "stdout",
     "output_type": "stream",
     "text": [
      "   Unnamed: 0     crim    zn  indus  chas    nox     rm   age     dis  rad  \\\n",
      "0           1  0.00632  18.0   2.31     0  0.538  6.575  65.2  4.0900    1   \n",
      "1           2  0.02731   0.0   7.07     0  0.469  6.421  78.9  4.9671    2   \n",
      "2           3  0.02729   0.0   7.07     0  0.469  7.185  61.1  4.9671    2   \n",
      "3           4  0.03237   0.0   2.18     0  0.458  6.998  45.8  6.0622    3   \n",
      "4           5  0.06905   0.0   2.18     0  0.458  7.147  54.2  6.0622    3   \n",
      "5           6  0.02985   0.0   2.18     0  0.458  6.430  58.7  6.0622    3   \n",
      "6           7  0.08829  12.5   7.87     0  0.524  6.012  66.6  5.5605    5   \n",
      "\n",
      "   tax  ptratio   black  lstat  medv  \n",
      "0  296     15.3  396.90   4.98  24.0  \n",
      "1  242     17.8  396.90   9.14  21.6  \n",
      "2  242     17.8  392.83   4.03  34.7  \n",
      "3  222     18.7  394.63   2.94  33.4  \n",
      "4  222     18.7  396.90   5.33  36.2  \n",
      "5  222     18.7  394.12   5.21  28.7  \n",
      "6  311     15.2  395.60  12.43  22.9  \n",
      "(506, 15)\n",
      "(379,)\n",
      "R-squared score (training): 0.571\n",
      "R-squared score (test): 0.458\n",
      "Pendiente: [-0.97063097]\n",
      "Término independiente: 34.78651468068162\n",
      "Mean squared error: 44.31\n",
      "Variance score: 0.46\n"
     ]
    },
    {
     "data": {
      "image/png": "[encoded data removed]",
      "text/plain": [
       "<Figure size 1080x576 with 1 Axes>"
      ]
     },
     "metadata": {},
     "output_type": "display_data"
    },
    {
     "data": {
      "image/png": "[encoded data removed]",
      "text/plain": [
       "<Figure size 1080x576 with 1 Axes>"
      ]
     },
     "metadata": {},
     "output_type": "display_data"
    }
   ],
   "source": [
    "run -i Estela85-Boston_ERM-DFB-0b3fb8f/02_1_Univariate_Regression_dataset_Boston.py Boston.csv"
   ]
  },
  {
   "cell_type": "markdown",
   "metadata": {},
   "source": [
    "# Publicación de los Datos\n",
    "\n",
    "Utilizando la API de Zenodo"
   ]
  },
  {
   "cell_type": "markdown",
   "metadata": {},
   "source": [
    "**COMENTARIO**\n",
    "\n",
    "Nos faltó tiempo para acabar esta parte."
   ]
  },
  {
   "cell_type": "code",
   "execution_count": null,
   "metadata": {},
   "outputs": [],
   "source": []
  },
  {
   "cell_type": "markdown",
   "metadata": {},
   "source": [
    "¿Puedes replicar ese workflow en un sólo bloque con otros datos?"
   ]
  },
  {
   "cell_type": "code",
   "execution_count": null,
   "metadata": {},
   "outputs": [],
   "source": []
  }
 ],
 "metadata": {
  "kernelspec": {
   "display_name": "Python 3",
   "language": "python",
   "name": "python3"
  },
  "language_info": {
   "codemirror_mode": {
    "name": "ipython",
    "version": 3
   },
   "file_extension": ".py",
   "mimetype": "text/x-python",
   "name": "python",
   "nbconvert_exporter": "python",
   "pygments_lexer": "ipython3",
   "version": "3.6.5"
  }
 },
 "nbformat": 4,
 "nbformat_minor": 2
}
